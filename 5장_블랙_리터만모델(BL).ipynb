{
  "nbformat": 4,
  "nbformat_minor": 0,
  "metadata": {
    "colab": {
      "name": "5장 블랙-리터만모델(BL)",
      "provenance": [],
      "collapsed_sections": [],
      "include_colab_link": true
    },
    "kernelspec": {
      "name": "python3",
      "display_name": "Python 3"
    }
  },
  "cells": [
    {
      "cell_type": "markdown",
      "metadata": {
        "id": "view-in-github",
        "colab_type": "text"
      },
      "source": [
        "<a href=\"https://colab.research.google.com/github/jimsjoo/gilbut_portfolio/blob/master/5%EC%9E%A5_%EB%B8%94%EB%9E%99_%EB%A6%AC%ED%84%B0%EB%A7%8C%EB%AA%A8%EB%8D%B8(BL).ipynb\" target=\"_parent\"><img src=\"https://colab.research.google.com/assets/colab-badge.svg\" alt=\"Open In Colab\"/></a>"
      ]
    },
    {
      "cell_type": "code",
      "metadata": {
        "id": "Ki9FERIDLQhw",
        "colab_type": "code",
        "colab": {}
      },
      "source": [
        "#%matplotlib inline\n",
        "import matplotlib.pylab as plt\n",
        "#plt.rcParams[\"figure.figsize\"] = (10, 9)"
      ],
      "execution_count": 0,
      "outputs": []
    },
    {
      "cell_type": "code",
      "metadata": {
        "id": "M3pZtRPjsYm3",
        "colab_type": "code",
        "colab": {}
      },
      "source": [
        "import numpy as np\n",
        "from numpy.linalg import inv\n",
        "import pandas as pd\n",
        "from pandas_datareader import data as web"
      ],
      "execution_count": 0,
      "outputs": []
    },
    {
      "cell_type": "code",
      "metadata": {
        "id": "BPu1SPQBSUWS",
        "colab_type": "code",
        "colab": {}
      },
      "source": [
        "from scipy.optimize import minimize"
      ],
      "execution_count": 0,
      "outputs": []
    },
    {
      "cell_type": "code",
      "metadata": {
        "id": "ggmIBqm7SXeF",
        "colab_type": "code",
        "colab": {}
      },
      "source": [
        "# 무위험수익률, 수익률,공분산으로\n",
        "# 샤프비율을 최대로 하는 접점포트폴리오 비중 계산 \n",
        "def solveWeights(R, C, rf):\n",
        "    \n",
        "    # 파이썬은 함수안에 함수를 정의할 수 있다\n",
        "    # 최적비중계산을 위해 다음과 같이 목적함수를 정의한다\n",
        "    def obj(W, R, C, rf):\n",
        "        mean = sum(R * W)\n",
        "        var = np.dot(np.dot(W, C), W)\n",
        "        #샤프비율을 효용함수로 한다\n",
        "        util = (mean - rf) / np.sqrt(var) \n",
        "        # 효용함수 극대화= 효용함수 역함수를 최소화하는 것이다.\n",
        "        return 1 / util  \n",
        "\n",
        "    n = len(R)  # 투자자산 갯수\n",
        "\n",
        "    # 동일비중으로 최적화 시작\n",
        "    W = np.ones([n]) / n  \n",
        "    # 비중범위는 0~100%사이(공매도나 차입조건이 없음)\n",
        "    bnds = [(0., 1.) for i in range(n)]  \n",
        "    # 제약조건은 비중합=100%\n",
        "    cons = ({'type': 'eq', 'fun': lambda W: sum(W) - 1.}) \n",
        "    # 최적화\n",
        "    res = minimize(obj, W, (R, C, rf), method='SLSQP', constraints=cons, bounds=bnds)\n",
        "    if not res.success:\n",
        "      # 최적화 실패한 경우 \n",
        "      raise BaseException(res.message)\n",
        "    # 최적화 결과를 돌려준다  \n",
        "    return res.x"
      ],
      "execution_count": 0,
      "outputs": []
    },
    {
      "cell_type": "code",
      "metadata": {
        "id": "Yp7Cfrr0SHeM",
        "colab_type": "code",
        "colab": {}
      },
      "source": [
        "# 무위험수익률, 수익률,공분산으로 효율적 프런티어 계산\n",
        "def solveFrontier(R, C, rf):\n",
        "\n",
        "    # 파이썬은 함수안에 함수를 정의할 수 있다\n",
        "    # 최적비중계산을 위해 다음과 같이 목적함수를 정의한다\n",
        "    def obj(W, R, C, r):\n",
        "        # 주어진 수익률에서 분산을 최소로 하는 비중 계산\n",
        "        mean = sum(R * W)\n",
        "        var = np.dot(np.dot(W, C), W)\n",
        "        # 최적화 제약조건 페널티\n",
        "        penalty = 100 * abs(mean - r)             \n",
        "        return var + penalty\n",
        "\n",
        "    # 효율적 프론티어를 구성하는 평균-분산을 돌려줄\n",
        "    # 리스트를 미리 준비한다\n",
        "    frontier_mean, frontier_var = [], []\n",
        "\n",
        "    n = len(R)  # 투자자산 갯수\n",
        "\n",
        "    # 수익률 최저~최대 사이를 반복한다\n",
        "    for r in np.linspace(min(R), max(R), num=20):\n",
        "        # 최적화 함수에 전달할 초기값으로 동일비중으로 시작한다\n",
        "        W = np.ones([n]) / n \n",
        "\n",
        "        # 최적화 함수에 전달할 범위조건과 제약조건을 미리 준비한다\n",
        "        # 범위조건: 각 구성자산의 투자비중은 0~100% 사이이며\n",
        "        # 제약조건: 전체 투자비중은 100%이다.\n",
        "        bnds = [(0, 1) for i in range(n)]\n",
        "        cons = ({'type': 'eq', 'fun': lambda W: sum(W) - 1.})\n",
        "        \n",
        "        # 최적화 함수 minimize()은 최적화할 obj함수와 \n",
        "        # 최적화를 시작할 초깃값을 인수로 받는다.         \n",
        "        res = minimize(obj, W, (R, C, r), method='SLSQP', constraints=cons, bounds=bnds)\n",
        "        if not res.success:\n",
        "            # 최적화에 실패한 경우\n",
        "            raise BaseException(res.message)\n",
        "        \n",
        "        # 효율적 프런티어 평균과 분산리스트에 \n",
        "        # 최적포트폴리오 수익률과 분산 추가\n",
        "        frontier_mean.append(r)\n",
        "        frontier_var.append(np.dot(np.dot(res.x, C), res.x))\n",
        "    return np.array(frontier_mean), np.array(frontier_var)"
      ],
      "execution_count": 0,
      "outputs": []
    },
    {
      "cell_type": "code",
      "metadata": {
        "id": "AYd_sKYfSbA7",
        "colab_type": "code",
        "colab": {}
      },
      "source": [
        "# 효율적 포트폴리오 최적화        \n",
        "def optimize_frontier(R, C, rf):\n",
        "\n",
        "    # 접점포트폴리오 계산\n",
        "    W = solveWeights(R, C, rf)\n",
        "    # 투자비중으로 계산한 평균과 분산\n",
        "    tan_mean = sum(R * W)\n",
        "    tan_var = np.dot(np.dot(W, C), W)    \n",
        "\n",
        "    # 효율적 포트폴리오 계산\n",
        "    eff_mean, eff_var = solveFrontier(R, C, rf)\n",
        "\n",
        "    # 비중, 접점포트폴리오의 평균/분산, 효율적 포트폴리오의 평균/분산을\n",
        "    # 딕셔너리 데이터형으로 돌려준다    \n",
        "    return {'weights':W, 'tan_mean':tan_mean, 'tan_var':tan_var, 'eff_mean':eff_mean, 'eff_var':eff_var}"
      ],
      "execution_count": 0,
      "outputs": []
    },
    {
      "cell_type": "code",
      "metadata": {
        "id": "DgaorQ_eUbWV",
        "colab_type": "code",
        "colab": {}
      },
      "source": [
        "# 자산에 대한 투자자의 전망과 전망의 기대수익률을 행렬로 만든다\n",
        "def CreateMatrixPQ(names, views):\n",
        "    r, c = len(views), len(names)\n",
        "\n",
        "    # 투자전망과 기대수익률 행렬\n",
        "    # views[i][3]에는 기대수익률을 가리킴\n",
        "    Q = [views[i][3] for i in range(r)]     \n",
        "\n",
        "    # 전망행렬 P를 만들기 위해\n",
        "    # 구성자산 딕셔너리 작성\n",
        "    nameToIndex = dict()    \n",
        "    for i, n in enumerate(names):\n",
        "        nameToIndex[n] = i\n",
        "\n",
        "    # 투자전망 \n",
        "    P = np.zeros([r, c]) \n",
        "    for i, v in enumerate(views):\n",
        "        # 가령 전망이 ('MSFT', '>', 'GE', 0.02) 이라면\n",
        "        # views[i][0] <-- 'MSFT' --> name1\n",
        "        # views[i][1] <-- '>'\n",
        "        # views[i][2] <-- 'GE'   --> name2\n",
        "        # views[i][3] <-- '0.02'\n",
        "        name1, name2 = views[i][0], views[i][2]\n",
        "        P[i, nameToIndex[name1]] = +1 if views[i][1] == '>' else -1\n",
        "        P[i, nameToIndex[name2]] = -1 if views[i][1] == '>' else +1\n",
        "    return np.array(Q), P"
      ],
      "execution_count": 0,
      "outputs": []
    },
    {
      "cell_type": "markdown",
      "metadata": {
        "id": "QsQw9HwLspbF",
        "colab_type": "text"
      },
      "source": [
        "데이터 읽기"
      ]
    },
    {
      "cell_type": "code",
      "metadata": {
        "colab_type": "code",
        "id": "1SKxyCsYNEgu",
        "colab": {}
      },
      "source": [
        "tickers= ['XOM', 'AAPL', 'MSFT', 'JNJ', 'GE', 'GOOG', 'CVX', 'PG', 'WFC']\n",
        "cap = {'XOM': 403.02e9, 'AAPL': 392.90e9, 'MSFT': 283.60e9, \n",
        "       'JNJ': 243.17e9, 'GE': 236.79e9,   'GOOG': 292.72e9, \n",
        "       'CVX': 231.03e9, 'PG': 214.99e9,   'WFC': 218.79e9 }\n",
        "\n",
        "prices, caps = [], []\n",
        "for s in tickers:\n",
        "    dataframe = pd.read_csv('https://raw.githubusercontent.com/jimsjoo/gilbut_portfolio/master/Data/%s.csv' % s, index_col=None, parse_dates=['date'])\n",
        "    prices.append(list(dataframe['close'])[-500:])\n",
        "    caps.append(cap[s])"
      ],
      "execution_count": 0,
      "outputs": []
    },
    {
      "cell_type": "markdown",
      "metadata": {
        "id": "sdYhhYlRsx40",
        "colab_type": "text"
      },
      "source": [
        "최적화에 사용할 필요한 값을 미리 계산"
      ]
    },
    {
      "cell_type": "code",
      "metadata": {
        "id": "Zvuu4qJdNfl4",
        "colab_type": "code",
        "colab": {}
      },
      "source": [
        "n = len(tickers)\n",
        "W = np.array(caps) / sum(caps) # 시가총액의 비율계산\n",
        "\n",
        "prices = np.matrix(prices)  # prices를 numpy matrix로 변환\n",
        "\n",
        "# 수익률 행렬을 만들어 계산\n",
        "rows, cols = prices.shape\n",
        "returns = np.empty([rows, cols - 1])\n",
        "for r in range(rows):\n",
        "    for c in range(cols - 1):\n",
        "        p0, p1 = prices[r, c], prices[r, c + 1]\n",
        "        returns[r, c] = (p1 / p0) - 1\n",
        "\n",
        "# 수익률계산\n",
        "expreturns = np.array([])\n",
        "for r in range(rows):\n",
        "    expreturns = np.append(expreturns, np.mean(returns[r]))\n",
        "\n",
        "# 공분산계산\n",
        "covars = np.cov(returns)\n",
        "R = (1 + expreturns) ** 250 - 1  # 연율화\n",
        "C = covars * 250  # 연율화\n",
        "\n",
        "# 무위험 이자율\n",
        "rf = .015 "
      ],
      "execution_count": 0,
      "outputs": []
    },
    {
      "cell_type": "code",
      "metadata": {
        "id": "VYJHi2kyQeWU",
        "colab_type": "code",
        "colab": {
          "base_uri": "https://localhost:8080/",
          "height": 108
        },
        "outputId": "cba0c0a1-f550-4f43-e8fa-3e8fd76d214c"
      },
      "source": [
        "display(pd.DataFrame({'Return': R, 'Weight (based on market cap)': W}, index=tickers).T)"
      ],
      "execution_count": 183,
      "outputs": [
        {
          "output_type": "display_data",
          "data": {
            "text/html": [
              "<div>\n",
              "<style scoped>\n",
              "    .dataframe tbody tr th:only-of-type {\n",
              "        vertical-align: middle;\n",
              "    }\n",
              "\n",
              "    .dataframe tbody tr th {\n",
              "        vertical-align: top;\n",
              "    }\n",
              "\n",
              "    .dataframe thead th {\n",
              "        text-align: right;\n",
              "    }\n",
              "</style>\n",
              "<table border=\"1\" class=\"dataframe\">\n",
              "  <thead>\n",
              "    <tr style=\"text-align: right;\">\n",
              "      <th></th>\n",
              "      <th>XOM</th>\n",
              "      <th>AAPL</th>\n",
              "      <th>MSFT</th>\n",
              "      <th>JNJ</th>\n",
              "      <th>GE</th>\n",
              "      <th>GOOG</th>\n",
              "      <th>CVX</th>\n",
              "      <th>PG</th>\n",
              "      <th>WFC</th>\n",
              "    </tr>\n",
              "  </thead>\n",
              "  <tbody>\n",
              "    <tr>\n",
              "      <th>Return</th>\n",
              "      <td>7.30%</td>\n",
              "      <td>12.95%</td>\n",
              "      <td>17.20%</td>\n",
              "      <td>14.38%</td>\n",
              "      <td>14.04%</td>\n",
              "      <td>33.20%</td>\n",
              "      <td>9.21%</td>\n",
              "      <td>11.22%</td>\n",
              "      <td>26.89%</td>\n",
              "    </tr>\n",
              "    <tr>\n",
              "      <th>Weight (based on market cap)</th>\n",
              "      <td>16.01%</td>\n",
              "      <td>15.61%</td>\n",
              "      <td>11.27%</td>\n",
              "      <td>9.66%</td>\n",
              "      <td>9.41%</td>\n",
              "      <td>11.63%</td>\n",
              "      <td>9.18%</td>\n",
              "      <td>8.54%</td>\n",
              "      <td>8.69%</td>\n",
              "    </tr>\n",
              "  </tbody>\n",
              "</table>\n",
              "</div>"
            ],
            "text/plain": [
              "                                XOM   AAPL   MSFT  ...   CVX     PG    WFC\n",
              "Return                        7.30% 12.95% 17.20%  ... 9.21% 11.22% 26.89%\n",
              "Weight (based on market cap) 16.01% 15.61% 11.27%  ... 9.18%  8.54%  8.69%\n",
              "\n",
              "[2 rows x 9 columns]"
            ]
          },
          "metadata": {
            "tags": []
          }
        }
      ]
    },
    {
      "cell_type": "code",
      "metadata": {
        "id": "2TM4_aTCQi_S",
        "colab_type": "code",
        "colab": {
          "base_uri": "https://localhost:8080/",
          "height": 318
        },
        "outputId": "1d9c719a-2e02-4e85-9c67-5e58906bf203"
      },
      "source": [
        "display(pd.DataFrame(C, columns=tickers, index=tickers))"
      ],
      "execution_count": 184,
      "outputs": [
        {
          "output_type": "display_data",
          "data": {
            "text/html": [
              "<div>\n",
              "<style scoped>\n",
              "    .dataframe tbody tr th:only-of-type {\n",
              "        vertical-align: middle;\n",
              "    }\n",
              "\n",
              "    .dataframe tbody tr th {\n",
              "        vertical-align: top;\n",
              "    }\n",
              "\n",
              "    .dataframe thead th {\n",
              "        text-align: right;\n",
              "    }\n",
              "</style>\n",
              "<table border=\"1\" class=\"dataframe\">\n",
              "  <thead>\n",
              "    <tr style=\"text-align: right;\">\n",
              "      <th></th>\n",
              "      <th>XOM</th>\n",
              "      <th>AAPL</th>\n",
              "      <th>MSFT</th>\n",
              "      <th>JNJ</th>\n",
              "      <th>GE</th>\n",
              "      <th>GOOG</th>\n",
              "      <th>CVX</th>\n",
              "      <th>PG</th>\n",
              "      <th>WFC</th>\n",
              "    </tr>\n",
              "  </thead>\n",
              "  <tbody>\n",
              "    <tr>\n",
              "      <th>XOM</th>\n",
              "      <td>3.90%</td>\n",
              "      <td>2.23%</td>\n",
              "      <td>2.80%</td>\n",
              "      <td>1.96%</td>\n",
              "      <td>3.66%</td>\n",
              "      <td>2.67%</td>\n",
              "      <td>3.82%</td>\n",
              "      <td>1.82%</td>\n",
              "      <td>4.30%</td>\n",
              "    </tr>\n",
              "    <tr>\n",
              "      <th>AAPL</th>\n",
              "      <td>2.23%</td>\n",
              "      <td>9.18%</td>\n",
              "      <td>2.46%</td>\n",
              "      <td>1.16%</td>\n",
              "      <td>2.78%</td>\n",
              "      <td>3.32%</td>\n",
              "      <td>2.82%</td>\n",
              "      <td>1.15%</td>\n",
              "      <td>3.68%</td>\n",
              "    </tr>\n",
              "    <tr>\n",
              "      <th>MSFT</th>\n",
              "      <td>2.80%</td>\n",
              "      <td>2.46%</td>\n",
              "      <td>5.10%</td>\n",
              "      <td>1.68%</td>\n",
              "      <td>3.26%</td>\n",
              "      <td>2.62%</td>\n",
              "      <td>3.08%</td>\n",
              "      <td>1.37%</td>\n",
              "      <td>4.03%</td>\n",
              "    </tr>\n",
              "    <tr>\n",
              "      <th>JNJ</th>\n",
              "      <td>1.96%</td>\n",
              "      <td>1.16%</td>\n",
              "      <td>1.68%</td>\n",
              "      <td>1.95%</td>\n",
              "      <td>2.10%</td>\n",
              "      <td>1.55%</td>\n",
              "      <td>2.10%</td>\n",
              "      <td>1.32%</td>\n",
              "      <td>2.69%</td>\n",
              "    </tr>\n",
              "    <tr>\n",
              "      <th>GE</th>\n",
              "      <td>3.66%</td>\n",
              "      <td>2.78%</td>\n",
              "      <td>3.26%</td>\n",
              "      <td>2.10%</td>\n",
              "      <td>5.92%</td>\n",
              "      <td>3.11%</td>\n",
              "      <td>4.07%</td>\n",
              "      <td>1.94%</td>\n",
              "      <td>5.39%</td>\n",
              "    </tr>\n",
              "    <tr>\n",
              "      <th>GOOG</th>\n",
              "      <td>2.67%</td>\n",
              "      <td>3.32%</td>\n",
              "      <td>2.62%</td>\n",
              "      <td>1.55%</td>\n",
              "      <td>3.11%</td>\n",
              "      <td>6.69%</td>\n",
              "      <td>3.03%</td>\n",
              "      <td>1.51%</td>\n",
              "      <td>3.90%</td>\n",
              "    </tr>\n",
              "    <tr>\n",
              "      <th>CVX</th>\n",
              "      <td>3.82%</td>\n",
              "      <td>2.82%</td>\n",
              "      <td>3.08%</td>\n",
              "      <td>2.10%</td>\n",
              "      <td>4.07%</td>\n",
              "      <td>3.03%</td>\n",
              "      <td>5.09%</td>\n",
              "      <td>1.96%</td>\n",
              "      <td>4.83%</td>\n",
              "    </tr>\n",
              "    <tr>\n",
              "      <th>PG</th>\n",
              "      <td>1.82%</td>\n",
              "      <td>1.15%</td>\n",
              "      <td>1.37%</td>\n",
              "      <td>1.32%</td>\n",
              "      <td>1.94%</td>\n",
              "      <td>1.51%</td>\n",
              "      <td>1.96%</td>\n",
              "      <td>2.52%</td>\n",
              "      <td>2.25%</td>\n",
              "    </tr>\n",
              "    <tr>\n",
              "      <th>WFC</th>\n",
              "      <td>4.30%</td>\n",
              "      <td>3.68%</td>\n",
              "      <td>4.03%</td>\n",
              "      <td>2.69%</td>\n",
              "      <td>5.39%</td>\n",
              "      <td>3.90%</td>\n",
              "      <td>4.83%</td>\n",
              "      <td>2.25%</td>\n",
              "      <td>8.98%</td>\n",
              "    </tr>\n",
              "  </tbody>\n",
              "</table>\n",
              "</div>"
            ],
            "text/plain": [
              "       XOM  AAPL  MSFT   JNJ    GE  GOOG   CVX    PG   WFC\n",
              "XOM  3.90% 2.23% 2.80% 1.96% 3.66% 2.67% 3.82% 1.82% 4.30%\n",
              "AAPL 2.23% 9.18% 2.46% 1.16% 2.78% 3.32% 2.82% 1.15% 3.68%\n",
              "MSFT 2.80% 2.46% 5.10% 1.68% 3.26% 2.62% 3.08% 1.37% 4.03%\n",
              "JNJ  1.96% 1.16% 1.68% 1.95% 2.10% 1.55% 2.10% 1.32% 2.69%\n",
              "GE   3.66% 2.78% 3.26% 2.10% 5.92% 3.11% 4.07% 1.94% 5.39%\n",
              "GOOG 2.67% 3.32% 2.62% 1.55% 3.11% 6.69% 3.03% 1.51% 3.90%\n",
              "CVX  3.82% 2.82% 3.08% 2.10% 4.07% 3.03% 5.09% 1.96% 4.83%\n",
              "PG   1.82% 1.15% 1.37% 1.32% 1.94% 1.51% 1.96% 2.52% 2.25%\n",
              "WFC  4.30% 3.68% 4.03% 2.69% 5.39% 3.90% 4.83% 2.25% 8.98%"
            ]
          },
          "metadata": {
            "tags": []
          }
        }
      ]
    },
    {
      "cell_type": "markdown",
      "metadata": {
        "id": "Ev3tlQIRYEl3",
        "colab_type": "text"
      },
      "source": [
        "과거 데이터를 이용한 최적화"
      ]
    },
    {
      "cell_type": "code",
      "metadata": {
        "id": "PDSG0N29TjEU",
        "colab_type": "code",
        "colab": {}
      },
      "source": [
        "opt1 = optimize_frontier(R, C, rf)  "
      ],
      "execution_count": 0,
      "outputs": []
    },
    {
      "cell_type": "markdown",
      "metadata": {
        "id": "rZgjZ8G0XYuA",
        "colab_type": "text"
      },
      "source": [
        "블랙-리터만 역최적화"
      ]
    },
    {
      "cell_type": "code",
      "metadata": {
        "id": "WcS64RXYTccP",
        "colab_type": "code",
        "colab": {}
      },
      "source": [
        "# 포트폴리오 수익률 평균 및 분산\n",
        "mean = sum(R * W)\n",
        "var = np.dot(np.dot(W, C), W)\n",
        "\n",
        "# 위험회피계수\n",
        "lmb = (mean - rf) / var  \n",
        "\n",
        "# 균형초과수익률\n",
        "Pi = np.dot(np.dot(lmb, C), W) "
      ],
      "execution_count": 0,
      "outputs": []
    },
    {
      "cell_type": "markdown",
      "metadata": {
        "id": "ORxWHtrKX6dI",
        "colab_type": "text"
      },
      "source": [
        "균형기대수익률로 최적화"
      ]
    },
    {
      "cell_type": "code",
      "metadata": {
        "id": "kSNszEIcXys4",
        "colab_type": "code",
        "colab": {}
      },
      "source": [
        "opt2 = optimize_frontier(Pi+rf, C, rf)"
      ],
      "execution_count": 0,
      "outputs": []
    },
    {
      "cell_type": "markdown",
      "metadata": {
        "id": "4_LySObttiwL",
        "colab_type": "text"
      },
      "source": [
        "투자자 전망과 기대수익률 그리고 전망의 불확실성 계산"
      ]
    },
    {
      "cell_type": "code",
      "metadata": {
        "id": "vyBg9RlJXNx9",
        "colab_type": "code",
        "colab": {}
      },
      "source": [
        "views = [('MSFT', '>', 'GE', 0.02),\n",
        "         ('AAPL', '<', 'JNJ', 0.02)]\n",
        "\n",
        "Q, P = CreateMatrixPQ(tickers, views)\n",
        "\n",
        "# 위험조정상수\n",
        "tau = .025  \n",
        "\n",
        "# 투자자 전망의 불확실성 계산\n",
        "# tau * P * C * transpose(P)\n",
        "omega = np.dot(np.dot(np.dot(tau, P), C), np.transpose(P))  "
      ],
      "execution_count": 0,
      "outputs": []
    },
    {
      "cell_type": "markdown",
      "metadata": {
        "id": "wO1bzVw5T3XA",
        "colab_type": "text"
      },
      "source": [
        "블랙-리터만 모델 최적화"
      ]
    },
    {
      "cell_type": "code",
      "metadata": {
        "id": "puzVjsCEtsdy",
        "colab_type": "code",
        "colab": {}
      },
      "source": [
        "# 투자자 전망과 합쳐진 균형초과수익률 계산\n",
        "sub_a = inv(np.dot(tau, C))\n",
        "sub_b = np.dot(np.dot(np.transpose(P), inv(omega)), P)\n",
        "sub_c = np.dot(inv(np.dot(tau, C)), Pi)\n",
        "sub_d = np.dot(np.dot(np.transpose(P), inv(omega)), Q)\n",
        "Pi_adj = np.dot(inv(sub_a + sub_b), (sub_c + sub_d))\n",
        "\n",
        "opt3 = optimize_frontier(Pi_adj + rf, C, rf)"
      ],
      "execution_count": 0,
      "outputs": []
    },
    {
      "cell_type": "code",
      "metadata": {
        "id": "rXE6G6H1z-c9",
        "colab_type": "code",
        "colab": {
          "base_uri": "https://localhost:8080/",
          "height": 340
        },
        "outputId": "751218ee-6331-40dc-feab-ff9f892c0d1a"
      },
      "source": [
        "from IPython.core.display import display, HTML\n",
        "pd.options.display.float_format = '{:.2%}'.format\n",
        "\n",
        "display(HTML('<h2>Historical returns</h2>'))\n",
        "display(pd.DataFrame({'Weight': opt1['weights']}, index=tickers).T)\n",
        "\n",
        "display(HTML('<h2>Implied returns</h2>'))\n",
        "display(pd.DataFrame({'Weight': opt2['weights']}, index=tickers).T)\n",
        "\n",
        "display(HTML('<h2>Implied returns with adjusted views</h2>'))\n",
        "display(pd.DataFrame({'Weight': opt3['weights']}, index=tickers).T)"
      ],
      "execution_count": 190,
      "outputs": [
        {
          "output_type": "display_data",
          "data": {
            "text/html": [
              "<h2>Historical returns</h2>"
            ],
            "text/plain": [
              "<IPython.core.display.HTML object>"
            ]
          },
          "metadata": {
            "tags": []
          }
        },
        {
          "output_type": "display_data",
          "data": {
            "text/html": [
              "<div>\n",
              "<style scoped>\n",
              "    .dataframe tbody tr th:only-of-type {\n",
              "        vertical-align: middle;\n",
              "    }\n",
              "\n",
              "    .dataframe tbody tr th {\n",
              "        vertical-align: top;\n",
              "    }\n",
              "\n",
              "    .dataframe thead th {\n",
              "        text-align: right;\n",
              "    }\n",
              "</style>\n",
              "<table border=\"1\" class=\"dataframe\">\n",
              "  <thead>\n",
              "    <tr style=\"text-align: right;\">\n",
              "      <th></th>\n",
              "      <th>XOM</th>\n",
              "      <th>AAPL</th>\n",
              "      <th>MSFT</th>\n",
              "      <th>JNJ</th>\n",
              "      <th>GE</th>\n",
              "      <th>GOOG</th>\n",
              "      <th>CVX</th>\n",
              "      <th>PG</th>\n",
              "      <th>WFC</th>\n",
              "    </tr>\n",
              "  </thead>\n",
              "  <tbody>\n",
              "    <tr>\n",
              "      <th>Weight</th>\n",
              "      <td>0.00%</td>\n",
              "      <td>0.00%</td>\n",
              "      <td>0.00%</td>\n",
              "      <td>45.09%</td>\n",
              "      <td>0.00%</td>\n",
              "      <td>52.84%</td>\n",
              "      <td>0.00%</td>\n",
              "      <td>0.00%</td>\n",
              "      <td>2.07%</td>\n",
              "    </tr>\n",
              "  </tbody>\n",
              "</table>\n",
              "</div>"
            ],
            "text/plain": [
              "         XOM  AAPL  MSFT    JNJ    GE   GOOG   CVX    PG   WFC\n",
              "Weight 0.00% 0.00% 0.00% 45.09% 0.00% 52.84% 0.00% 0.00% 2.07%"
            ]
          },
          "metadata": {
            "tags": []
          }
        },
        {
          "output_type": "display_data",
          "data": {
            "text/html": [
              "<h2>Implied returns</h2>"
            ],
            "text/plain": [
              "<IPython.core.display.HTML object>"
            ]
          },
          "metadata": {
            "tags": []
          }
        },
        {
          "output_type": "display_data",
          "data": {
            "text/html": [
              "<div>\n",
              "<style scoped>\n",
              "    .dataframe tbody tr th:only-of-type {\n",
              "        vertical-align: middle;\n",
              "    }\n",
              "\n",
              "    .dataframe tbody tr th {\n",
              "        vertical-align: top;\n",
              "    }\n",
              "\n",
              "    .dataframe thead th {\n",
              "        text-align: right;\n",
              "    }\n",
              "</style>\n",
              "<table border=\"1\" class=\"dataframe\">\n",
              "  <thead>\n",
              "    <tr style=\"text-align: right;\">\n",
              "      <th></th>\n",
              "      <th>XOM</th>\n",
              "      <th>AAPL</th>\n",
              "      <th>MSFT</th>\n",
              "      <th>JNJ</th>\n",
              "      <th>GE</th>\n",
              "      <th>GOOG</th>\n",
              "      <th>CVX</th>\n",
              "      <th>PG</th>\n",
              "      <th>WFC</th>\n",
              "    </tr>\n",
              "  </thead>\n",
              "  <tbody>\n",
              "    <tr>\n",
              "      <th>Weight</th>\n",
              "      <td>16.04%</td>\n",
              "      <td>15.62%</td>\n",
              "      <td>11.25%</td>\n",
              "      <td>9.74%</td>\n",
              "      <td>9.38%</td>\n",
              "      <td>11.62%</td>\n",
              "      <td>9.18%</td>\n",
              "      <td>8.47%</td>\n",
              "      <td>8.70%</td>\n",
              "    </tr>\n",
              "  </tbody>\n",
              "</table>\n",
              "</div>"
            ],
            "text/plain": [
              "          XOM   AAPL   MSFT   JNJ    GE   GOOG   CVX    PG   WFC\n",
              "Weight 16.04% 15.62% 11.25% 9.74% 9.38% 11.62% 9.18% 8.47% 8.70%"
            ]
          },
          "metadata": {
            "tags": []
          }
        },
        {
          "output_type": "display_data",
          "data": {
            "text/html": [
              "<h2>Implied returns with adjusted views</h2>"
            ],
            "text/plain": [
              "<IPython.core.display.HTML object>"
            ]
          },
          "metadata": {
            "tags": []
          }
        },
        {
          "output_type": "display_data",
          "data": {
            "text/html": [
              "<div>\n",
              "<style scoped>\n",
              "    .dataframe tbody tr th:only-of-type {\n",
              "        vertical-align: middle;\n",
              "    }\n",
              "\n",
              "    .dataframe tbody tr th {\n",
              "        vertical-align: top;\n",
              "    }\n",
              "\n",
              "    .dataframe thead th {\n",
              "        text-align: right;\n",
              "    }\n",
              "</style>\n",
              "<table border=\"1\" class=\"dataframe\">\n",
              "  <thead>\n",
              "    <tr style=\"text-align: right;\">\n",
              "      <th></th>\n",
              "      <th>XOM</th>\n",
              "      <th>AAPL</th>\n",
              "      <th>MSFT</th>\n",
              "      <th>JNJ</th>\n",
              "      <th>GE</th>\n",
              "      <th>GOOG</th>\n",
              "      <th>CVX</th>\n",
              "      <th>PG</th>\n",
              "      <th>WFC</th>\n",
              "    </tr>\n",
              "  </thead>\n",
              "  <tbody>\n",
              "    <tr>\n",
              "      <th>Weight</th>\n",
              "      <td>15.26%</td>\n",
              "      <td>3.28%</td>\n",
              "      <td>22.62%</td>\n",
              "      <td>21.89%</td>\n",
              "      <td>0.00%</td>\n",
              "      <td>11.59%</td>\n",
              "      <td>8.78%</td>\n",
              "      <td>8.43%</td>\n",
              "      <td>8.15%</td>\n",
              "    </tr>\n",
              "  </tbody>\n",
              "</table>\n",
              "</div>"
            ],
            "text/plain": [
              "          XOM  AAPL   MSFT    JNJ    GE   GOOG   CVX    PG   WFC\n",
              "Weight 15.26% 3.28% 22.62% 21.89% 0.00% 11.59% 8.78% 8.43% 8.15%"
            ]
          },
          "metadata": {
            "tags": []
          }
        }
      ]
    },
    {
      "cell_type": "code",
      "metadata": {
        "id": "Sc_InPMtXj8w",
        "colab_type": "code",
        "colab": {}
      },
      "source": [
        "def plotAssets(tickers, R, C, color='black'):\n",
        "    # 포트폴리오 구성자산 출력\n",
        "    plt.scatter([C[i, i] ** .5 for i in range(n)], R, marker='x', color=color)  \n",
        "    for i in range(n): \n",
        "        plt.text(C[i, i] ** .5, R[i], '  %s' % tickers[i], verticalalignment='center', color=color) \n",
        "\n",
        "def plotFrontier(result, label=None, color='black'):\n",
        "    # 최적화된 효율적 프런티어 출력\n",
        "    plt.text(result['tan_var'] ** .5, result['tan_mean'], 'tangent', verticalalignment='center', color=color)\n",
        "    plt.scatter(result['tan_var'] ** .5, result['tan_mean'], marker='o', color=color)\n",
        "    plt.plot(result['eff_var'] ** .5, result['eff_mean'], label=label, color=color, linewidth=2, marker='D', markersize=9) "
      ],
      "execution_count": 0,
      "outputs": []
    },
    {
      "cell_type": "code",
      "metadata": {
        "id": "QwsXjQnta0gq",
        "colab_type": "code",
        "colab": {
          "base_uri": "https://localhost:8080/",
          "height": 569
        },
        "outputId": "923ba60a-b92c-4d12-e0f1-74eea3f2a8bf"
      },
      "source": [
        "plotAssets(tickers, R, C, color='blue')\n",
        "plotFrontier(opt1, label='Historical returns', color='blue')\n",
        "\n",
        "plotAssets(tickers, Pi+rf, C, color='green')\n",
        "plotFrontier(opt2, label='Implied returns', color='green')\n",
        "\n",
        "plotAssets(tickers, Pi_adj+rf, C, color='red')\n",
        "plotFrontier(opt3, label='Implied returns (adjusted views)', color='red')\n",
        "\n",
        "plt.grid(alpha=0.3, color='gray', linestyle='--', linewidth=1)\n",
        "plt.title('Portfolio optimization')\n",
        "plt.legend(['Historical returns(blue)', 'Implied returns(green)','Implied returns with adjusted views(red)'])\n",
        "plt.xlabel('Variance $\\sigma$')\n",
        "plt.ylabel('Mean $\\mu$')\n",
        "plt.show()"
      ],
      "execution_count": 192,
      "outputs": [
        {
          "output_type": "display_data",
          "data": {
            "image/png": "[encoded data removed]",
            "text/plain": [
              "<Figure size 720x648 with 1 Axes>"
            ]
          },
          "metadata": {
            "tags": [],
            "needs_background": "light"
          }
        }
      ]
    }
  ]
}